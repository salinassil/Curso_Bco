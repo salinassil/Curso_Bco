{
 "cells": [
  {
   "cell_type": "markdown",
   "metadata": {},
   "source": [
    "---\n",
    "# Caso Superstore: Series de tiempo\n",
    "\n",
    "En esta guía vamos a revisar algunas técnicas para el análisis combinando wrangling y análisis visual.\n",
    "\n",
    "\n",
    "\n"
   ]
  },
  {
   "cell_type": "code",
   "execution_count": null,
   "metadata": {},
   "outputs": [],
   "source": [
    "import pandas as pd\n",
    "import numpy as np\n",
    "import seaborn as sns"
   ]
  },
  {
   "cell_type": "markdown",
   "metadata": {},
   "source": [
    "#### 1. Lectura y Wrangling Inicial"
   ]
  },
  {
   "cell_type": "code",
   "execution_count": null,
   "metadata": {},
   "outputs": [],
   "source": [
    "# lectura con parseo de fechas\n",
    "# nótese que las fechas son reconocidas como datetime64\n",
    "df = pd.read_csv('Superstore.csv', encoding='windows-1252', parse_dates=['Order Date','Ship Date'])"
   ]
  },
  {
   "cell_type": "code",
   "execution_count": null,
   "metadata": {},
   "outputs": [],
   "source": [
    "# eliminamos columnas que no serán de utilidad\n",
    "df.drop(['Row ID', 'Postal Code'], axis=1, inplace=True)"
   ]
  },
  {
   "cell_type": "code",
   "execution_count": null,
   "metadata": {},
   "outputs": [],
   "source": [
    "# estructura del dataframe\n",
    "df.info()"
   ]
  },
  {
   "cell_type": "code",
   "execution_count": null,
   "metadata": {},
   "outputs": [],
   "source": [
    "# algunos registros de ejemplo\n",
    "df.sample(4).T"
   ]
  },
  {
   "cell_type": "markdown",
   "metadata": {},
   "source": [
    "#### 2. Análisis del tiempo de entrega\n",
    "\n",
    "En esta sección, vamos a analizar los tiempos de entrega de los pedidos. Para esto, vamos a crear una columna nueva que contenga la diferencia de tiempo entre la fecha de la orden y la fecha de delivery"
   ]
  },
  {
   "cell_type": "code",
   "execution_count": null,
   "metadata": {},
   "outputs": [],
   "source": [
    "# Crear una nueva columna llamada \"tiempo entrega\" que contenga la diferencia entre la fecha de delivery y la fecha de la orden\n",
    "\n",
    "df[\"tiempo entrega\"] = "
   ]
  },
  {
   "cell_type": "code",
   "execution_count": null,
   "metadata": {},
   "outputs": [],
   "source": [
    "# verifique el tipo de dato de la nueva columna ¿Qué tipo de datos es?\n",
    "\n"
   ]
  },
  {
   "cell_type": "code",
   "execution_count": null,
   "metadata": {},
   "outputs": [],
   "source": [
    "# imprima los primeros registros para verificar cómo se despliega el tiempo de entrega\n"
   ]
  },
  {
   "cell_type": "markdown",
   "metadata": {},
   "source": [
    "Como se puede apreciar, la nueva columna es del tipo Timedelta, el cual representa una duración, es decir, la diferencia entre dos fechas. Acá hay un link a la documentación oficial:\n",
    "\n",
    "https://pandas.pydata.org/docs/reference/api/pandas.Timedelta.html\n",
    "\n",
    "\n",
    "Sin embargo, para nuestro análisis necesitamos convertir la columna con tipo de dato Timedelta a un valor numérico que represente la cantidad de días. Para eso, vamos a utilizar una propiedad de los objetos de tipo Timedelta que despliega la cantidad de dias. Observar este link:\n",
    "\n",
    "https://stackoverflow.com/questions/2119472/convert-a-timedelta-to-days-hours-and-minutes\n",
    "\n"
   ]
  },
  {
   "cell_type": "code",
   "execution_count": null,
   "metadata": {},
   "outputs": [],
   "source": [
    "# cree una nueva columna que contenga la cantidad de dias del tiempo de entrega\n",
    "df[\"dias entrega\"] = "
   ]
  },
  {
   "cell_type": "markdown",
   "metadata": {},
   "source": [
    "Ahora vamos a analizar los tiempos medios de entrega (en dias) para cada tipo de despacho (Ship Mode). Construya un gráfico que muestre el tiempo medio de entrega (en días) para cada medio de despacho. Como se puede observar, los tipos de despacho son consistentes con los tiempos promedios desplegados.\n",
    "\n",
    "Sugerencia: usar seaborn barplot"
   ]
  },
  {
   "cell_type": "code",
   "execution_count": null,
   "metadata": {},
   "outputs": [],
   "source": [
    "\n"
   ]
  },
  {
   "cell_type": "markdown",
   "metadata": {},
   "source": [
    "El gráfico anterior despliega un promedio, sin embargo nos gustaría saber qué tan dispersos son los tiempos en cada caso. Construya un gráfico donde se despliegue la desviación standard para cada medio de despacho. ¿Cuál es el medio de despacho que tiene mayor variabilidad?\n",
    "\n",
    "Sugerencia: revisar parametro estimator"
   ]
  },
  {
   "cell_type": "code",
   "execution_count": null,
   "metadata": {},
   "outputs": [],
   "source": [
    "\n"
   ]
  },
  {
   "cell_type": "markdown",
   "metadata": {},
   "source": [
    "Una grilla de gráficos con la distribución de días de entrega para cada tipo de despacho sería una buena forma de comparar las dispersiones.\n",
    "\n",
    "Sugerencia: usar FacetGrid"
   ]
  },
  {
   "cell_type": "code",
   "execution_count": null,
   "metadata": {},
   "outputs": [],
   "source": [
    "\n",
    "\n"
   ]
  },
  {
   "cell_type": "markdown",
   "metadata": {},
   "source": [
    "También podría servir una visualización de boxplot de dias de duración por modalidad de despacho\n",
    "\n",
    "Sugerencia: seaborn boxplot"
   ]
  },
  {
   "cell_type": "code",
   "execution_count": null,
   "metadata": {},
   "outputs": [],
   "source": [
    "\n"
   ]
  },
  {
   "cell_type": "markdown",
   "metadata": {},
   "source": [
    "#### 3. Analisis Series de Tiempo\n",
    "\n",
    "El análisis de series de tiempo es una técnica estadística utilizada para analizar datos que se recopilan, registran o generan secuencialmente a lo largo del tiempo. Estos datos se organizan en intervalos regulares, como horas, días, semanas, meses o años, y se utilizan para estudiar la evolución y el comportamiento de una variable o fenómeno a lo largo del tiempo.\n",
    "\n",
    "El objetivo del análisis de series de tiempo es comprender y modelar la estructura subyacente de los datos temporales, identificar patrones, tendencias y ciclos, así como también realizar pronósticos o predicciones futuras basadas en el comportamiento observado en el pasado."
   ]
  },
  {
   "cell_type": "markdown",
   "metadata": {},
   "source": [
    "#### Preparación del set de datos\n",
    "\n",
    "Para hacer análisis de series de tiempo, necesitamos dos cosas:\n",
    "- Contar una columna de tipo Datetime\n",
    "- Utilizar esa columna como indice del frame de datos\n",
    "\n",
    "En este caso, ya contamos con la columna Order Date que contiene la fecha de la orden y que es de tipo datetime"
   ]
  },
  {
   "cell_type": "code",
   "execution_count": null,
   "metadata": {},
   "outputs": [],
   "source": [
    "# setee la columna Order Date para que quede como indice\n",
    "\n"
   ]
  },
  {
   "cell_type": "code",
   "execution_count": null,
   "metadata": {},
   "outputs": [],
   "source": [
    "# verifique el dataframe desplegando las primeras filas\n",
    "\n"
   ]
  },
  {
   "cell_type": "markdown",
   "metadata": {},
   "source": [
    "#### Diagrama de evolución de la cantidad de ordenes\n",
    "\n",
    "Para contabilizar la cantidad de ordenes diarias, la siguiente instrucción puede ser de utilidad.\n",
    "\n",
    "\n",
    "    df['Order ID'].resample('D').count()\n",
    "\n",
    "\n",
    "El método resample agrupa los datos en una ventana de tiempo determinado, en este caso, se han acumulado por día y se han contado. Más información en:\n",
    "\n",
    "https://pandas.pydata.org/pandas-docs/stable/reference/api/pandas.DataFrame.resample.html"
   ]
  },
  {
   "cell_type": "code",
   "execution_count": null,
   "metadata": {},
   "outputs": [],
   "source": [
    "# ejecute la instrucción de resample y observe el resultado\n",
    "\n"
   ]
  },
  {
   "cell_type": "markdown",
   "metadata": {},
   "source": [
    "Si la serie de datos anterior se grafica, entonces se obtiene una visualización muy adecuada para describir una serie de tiempo.\n",
    "\n",
    "    df['Order ID'].resample('D').count().plot( figsize=(12,4) )"
   ]
  },
  {
   "cell_type": "code",
   "execution_count": null,
   "metadata": {},
   "outputs": [],
   "source": [
    "\n"
   ]
  },
  {
   "cell_type": "markdown",
   "metadata": {},
   "source": [
    "Como se puede observar, la ventana diaria de agregación no es apropiada para visualizar la evolución de las ventas. Pruebe con ventanas tales como:\n",
    "\n",
    "- 'W': weekly\n",
    "- 'M': monthly\n",
    "- 'Q': quarter\n",
    "- 'Y': yearly\n",
    "\n",
    "seleccione la visualización con la ventana de tiempo que permita una mejor visualización de la serie de tiempo."
   ]
  },
  {
   "cell_type": "code",
   "execution_count": null,
   "metadata": {},
   "outputs": [],
   "source": [
    "\n",
    "\n"
   ]
  },
  {
   "cell_type": "markdown",
   "metadata": {},
   "source": [
    "¿Qué ventana de tiempo permite apreciar un patrón? ¿Qué patrón se observa?"
   ]
  },
  {
   "cell_type": "code",
   "execution_count": null,
   "metadata": {},
   "outputs": [],
   "source": [
    "# responda acá\n",
    "\n",
    "\n"
   ]
  },
  {
   "cell_type": "markdown",
   "metadata": {},
   "source": [
    "#### Medias móviles\n",
    "\n",
    "La media móvil es una técnica utilizada en el análisis de series de tiempo para suavizar las fluctuaciones a corto plazo y resaltar las tendencias a largo plazo o los ciclos subyacentes en los datos. Consiste en calcular la media de un cierto número de observaciones consecutivas en una serie temporal y utilizar ese valor promedio como una estimación del valor en un punto dado.\n",
    "\n",
    "La idea básica detrás de la media móvil es que al promediar múltiples observaciones adyacentes, se puede reducir el efecto de la variabilidad aleatoria en los datos, lo que permite identificar mejor las tendencias y patrones subyacentes. Esto puede ser útil para suavizar la serie de tiempo y hacer que sea más fácil identificar patrones de comportamiento a largo plazo.\n",
    "\n",
    "La siguiente instrucción calcula una media movil de 20 días sobre la cantidad de ordenes por dias que calculamos en el punto anterior.\n",
    "\n",
    "    df['Order ID'].resample('D').count().rolling(window=20).mean()\n"
   ]
  },
  {
   "cell_type": "code",
   "execution_count": null,
   "metadata": {},
   "outputs": [],
   "source": [
    "# ejecute la instrucción y verifique el resultado\n"
   ]
  },
  {
   "cell_type": "markdown",
   "metadata": {},
   "source": [
    "Si a la instrucción anterior la graficamos con un diagrama de lineas, obtenemos una visualización interesante.\n",
    "\n",
    "    df['Order ID'].resample('D').count().rolling(window=20).mean().plot( figsize=(12,4) )\n"
   ]
  },
  {
   "cell_type": "code",
   "execution_count": null,
   "metadata": {},
   "outputs": [],
   "source": [
    "# ejecute la instrucción anterior para visualizar la serie de datos\n",
    "\n"
   ]
  },
  {
   "cell_type": "markdown",
   "metadata": {},
   "source": [
    "Pruebe con distintos valores de la ventana móvil. Una ventana más grante, muestra la tendencia de largo plazo (por ejemplo, 100 o 200 días). Pruebe distintas ventanas (200, 100, 50, 10 días)"
   ]
  },
  {
   "cell_type": "code",
   "execution_count": null,
   "metadata": {},
   "outputs": [],
   "source": [
    "\n"
   ]
  },
  {
   "cell_type": "code",
   "execution_count": null,
   "metadata": {},
   "outputs": [],
   "source": [
    "\n"
   ]
  },
  {
   "cell_type": "markdown",
   "metadata": {},
   "source": [
    "#### Conclusiones\n",
    "\n",
    "¿Qué se observa? ¿Qué diferencia hay entre resample y rolling? ¿Qué patrones se observan?"
   ]
  },
  {
   "cell_type": "code",
   "execution_count": null,
   "metadata": {},
   "outputs": [],
   "source": [
    "# responda acá\n",
    "\n",
    "\n",
    "\n",
    "\n",
    "\n"
   ]
  },
  {
   "cell_type": "markdown",
   "metadata": {},
   "source": [
    "---"
   ]
  }
 ],
 "metadata": {
  "kernelspec": {
   "display_name": "Python 3 (ipykernel)",
   "language": "python",
   "name": "python3"
  },
  "language_info": {
   "codemirror_mode": {
    "name": "ipython",
    "version": 3
   },
   "file_extension": ".py",
   "mimetype": "text/x-python",
   "name": "python",
   "nbconvert_exporter": "python",
   "pygments_lexer": "ipython3",
   "version": "3.11.7"
  }
 },
 "nbformat": 4,
 "nbformat_minor": 4
}
