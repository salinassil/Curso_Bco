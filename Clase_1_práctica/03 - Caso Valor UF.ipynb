{
 "cells": [
  {
   "cell_type": "markdown",
   "metadata": {},
   "source": [
    "---\n",
    "# Obtención Valor UF\n",
    "\n",
    "Se pide confeccionar un programa en python para la obtención de la uf del mes de Octubre de 2023 y posteriormente **almacenarla en una planilla excel** tal como el siguiente ejemplo.\n",
    "\n",
    "\n",
    "| Dia | Valor |\n",
    "|---|---|\n",
    "| 1 | 29936.45 |\n",
    "| 2 | 29947.64 |\n",
    "| 3 | 29956.23 |\n",
    "| 4 | 30016.98 |\n",
    "| ... | ... |\n",
    "\n",
    "\n",
    "La siguiente url contiene datos del valor de la UF.\n",
    "\n",
    "    http://www.sii.cl/valores_y_fechas/uf/uf2023.htm\n"
   ]
  },
  {
   "cell_type": "code",
   "execution_count": 1,
   "metadata": {},
   "outputs": [],
   "source": [
    "import pandas as pd"
   ]
  },
  {
   "cell_type": "code",
   "execution_count": null,
   "metadata": {},
   "outputs": [],
   "source": []
  },
  {
   "cell_type": "code",
   "execution_count": null,
   "metadata": {},
   "outputs": [],
   "source": []
  }
 ],
 "metadata": {
  "kernelspec": {
   "display_name": "Python 3 (ipykernel)",
   "language": "python",
   "name": "python3"
  },
  "language_info": {
   "codemirror_mode": {
    "name": "ipython",
    "version": 3
   },
   "file_extension": ".py",
   "mimetype": "text/x-python",
   "name": "python",
   "nbconvert_exporter": "python",
   "pygments_lexer": "ipython3",
   "version": "3.11.7"
  }
 },
 "nbformat": 4,
 "nbformat_minor": 4
}
