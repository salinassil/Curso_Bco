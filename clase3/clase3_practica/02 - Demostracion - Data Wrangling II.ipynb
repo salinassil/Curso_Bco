{
 "cells": [
  {
   "cell_type": "markdown",
   "metadata": {
    "id": "GQ_X6mJRcwMn"
   },
   "source": [
    "---\n",
    "# Data Wrangling II\n",
    "\n",
    "- Concatenación\n",
    "- Merge"
   ]
  },
  {
   "cell_type": "code",
   "execution_count": null,
   "metadata": {
    "id": "DqtMO1L3cwMq"
   },
   "outputs": [],
   "source": [
    "import pandas as pd"
   ]
  },
  {
   "cell_type": "markdown",
   "metadata": {
    "id": "LEw2IfPscwMq"
   },
   "source": [
    "### Concatenación de dataframes"
   ]
  },
  {
   "cell_type": "code",
   "execution_count": null,
   "metadata": {
    "id": "_Dpxqw02cwMr"
   },
   "outputs": [],
   "source": [
    "df = pd.read_csv('Valor-UF-SII.csv')\n",
    "df.head()"
   ]
  },
  {
   "cell_type": "code",
   "execution_count": null,
   "metadata": {
    "id": "lOyyMLA2cwMr"
   },
   "outputs": [],
   "source": [
    "# Lectura con separador, sin header y asignación de nombres de columnas\n",
    "df = pd.read_csv('Valor-UF-SII.csv', sep=';', header=None,\n",
    "            names=['dia.1', 'valor.1', 'dia.2', 'valor.2', 'dia.3', 'valor.3'])\n",
    "df.head()"
   ]
  },
  {
   "cell_type": "code",
   "execution_count": null,
   "metadata": {
    "id": "TZRWIQHrcwMr"
   },
   "outputs": [],
   "source": []
  },
  {
   "cell_type": "code",
   "execution_count": null,
   "metadata": {
    "id": "chrN9uWDcwMr"
   },
   "outputs": [],
   "source": [
    "# creación de 3 nuevos dataframes\n",
    "# seleccionando las respecticas columnas\n",
    "df1 = df.iloc[:,:2].copy()\n",
    "df2 = df.iloc[:,2:4].copy()\n",
    "df3 = df.iloc[:,4:].copy()"
   ]
  },
  {
   "cell_type": "code",
   "execution_count": null,
   "metadata": {
    "id": "3vlrhFmXcwMs"
   },
   "outputs": [],
   "source": [
    "df1.head(2)"
   ]
  },
  {
   "cell_type": "code",
   "execution_count": null,
   "metadata": {
    "id": "3l-RgrZQcwMs",
    "outputId": "f401e4d9-d0b1-4535-f95c-3880b3480f94"
   },
   "outputs": [
    {
     "data": {
      "text/html": [
       "<div>\n",
       "<style scoped>\n",
       "    .dataframe tbody tr th:only-of-type {\n",
       "        vertical-align: middle;\n",
       "    }\n",
       "\n",
       "    .dataframe tbody tr th {\n",
       "        vertical-align: top;\n",
       "    }\n",
       "\n",
       "    .dataframe thead th {\n",
       "        text-align: right;\n",
       "    }\n",
       "</style>\n",
       "<table border=\"1\" class=\"dataframe\">\n",
       "  <thead>\n",
       "    <tr style=\"text-align: right;\">\n",
       "      <th></th>\n",
       "      <th>dia.2</th>\n",
       "      <th>valor.2</th>\n",
       "    </tr>\n",
       "  </thead>\n",
       "  <tbody>\n",
       "    <tr>\n",
       "      <th>0</th>\n",
       "      <td>11.0</td>\n",
       "      <td>28.636,35</td>\n",
       "    </tr>\n",
       "    <tr>\n",
       "      <th>1</th>\n",
       "      <td>12.0</td>\n",
       "      <td>28.639,21</td>\n",
       "    </tr>\n",
       "  </tbody>\n",
       "</table>\n",
       "</div>"
      ],
      "text/plain": [
       "   dia.2    valor.2\n",
       "0   11.0  28.636,35\n",
       "1   12.0  28.639,21"
      ]
     },
     "execution_count": 23,
     "metadata": {},
     "output_type": "execute_result"
    }
   ],
   "source": [
    "df2.head(2)"
   ]
  },
  {
   "cell_type": "code",
   "execution_count": null,
   "metadata": {
    "id": "C-122mxpcwMs"
   },
   "outputs": [],
   "source": [
    "df3.head(2)"
   ]
  },
  {
   "cell_type": "code",
   "execution_count": null,
   "metadata": {
    "id": "IB18A5sWcwMs"
   },
   "outputs": [],
   "source": [
    "#renombramiento de columnas\n",
    "df1.rename(columns={'dia.1':'Dia', 'valor.1':'Valor'}, inplace=True)\n",
    "df2.rename(columns={'dia.2':'Dia', 'valor.2':'Valor'}, inplace=True)\n",
    "df3.rename(columns={'dia.3':'Dia', 'valor.3':'Valor'}, inplace=True)"
   ]
  },
  {
   "cell_type": "code",
   "execution_count": null,
   "metadata": {
    "id": "p5tDS77XcwMt"
   },
   "outputs": [],
   "source": [
    "df1.head(2)"
   ]
  },
  {
   "cell_type": "code",
   "execution_count": null,
   "metadata": {
    "id": "nkZ9g5yJcwMt"
   },
   "outputs": [],
   "source": [
    "# Concatenación de los 3 dataframes anteriores\n",
    "dft = pd.concat([df1,df2,df3])\n",
    "dft"
   ]
  },
  {
   "cell_type": "code",
   "execution_count": null,
   "metadata": {
    "id": "J9ECsr30cwMt"
   },
   "outputs": [],
   "source": [
    "# eliminamos valores nulos\n",
    "dft.dropna(inplace=True)\n",
    "\n",
    "# reseteamos el indice\n",
    "dft.reset_index(inplace=True, drop=True)"
   ]
  },
  {
   "cell_type": "code",
   "execution_count": null,
   "metadata": {
    "id": "s8Ztu0mZcwMu"
   },
   "outputs": [],
   "source": [
    "dft"
   ]
  },
  {
   "cell_type": "markdown",
   "metadata": {
    "id": "xrEjjlS3cwMu"
   },
   "source": [
    "### Merge de dataframes"
   ]
  },
  {
   "cell_type": "code",
   "execution_count": null,
   "metadata": {
    "id": "bjy45KVEcwMu"
   },
   "outputs": [],
   "source": [
    "df1 = pd.read_excel('riesgo-segmento.xlsx', sheet_name='Clientes')\n",
    "df1"
   ]
  },
  {
   "cell_type": "code",
   "execution_count": null,
   "metadata": {
    "id": "1dUeLitncwMu"
   },
   "outputs": [],
   "source": [
    "df2 = pd.read_excel('riesgo-segmento.xlsx',\n",
    "                                  sheet_name='Comunas')\n",
    "df2"
   ]
  },
  {
   "cell_type": "code",
   "execution_count": null,
   "metadata": {
    "id": "90nzkHcScwMu"
   },
   "outputs": [],
   "source": [
    "df3 = pd.read_excel('riesgo-segmento.xlsx',\n",
    "                       sheet_name='Factores Riesgo')\n",
    "df3"
   ]
  },
  {
   "cell_type": "code",
   "execution_count": null,
   "metadata": {
    "id": "rgpmkytPcwMv"
   },
   "outputs": [],
   "source": [
    "# merge clientes comuna\n",
    "pd.merge(df1,df2, how='inner', on='COD_COMUNA')"
   ]
  },
  {
   "cell_type": "code",
   "execution_count": null,
   "metadata": {
    "id": "Od_WBuEScwMv"
   },
   "outputs": [],
   "source": [
    "# merge clientes comuna método inner\n",
    "pd.merge(df1,df2, how='inner', on='COD_COMUNA')"
   ]
  },
  {
   "cell_type": "code",
   "execution_count": null,
   "metadata": {
    "id": "tX3k4NjzcwMv"
   },
   "outputs": [],
   "source": [
    "# left merge\n",
    "pd.merge(df1,df2, how='left', on='COD_COMUNA')"
   ]
  },
  {
   "cell_type": "code",
   "execution_count": null,
   "metadata": {
    "id": "YjM8VUa8cwMv"
   },
   "outputs": [],
   "source": [
    "# rigth merge\n",
    "pd.merge(df1,df2, how='right', on='COD_COMUNA')"
   ]
  },
  {
   "cell_type": "code",
   "execution_count": null,
   "metadata": {
    "id": "AozjP4-fcwMv"
   },
   "outputs": [],
   "source": [
    "# outer merge\n",
    "pd.merge(df1,df2, how='outer', on='COD_COMUNA')"
   ]
  },
  {
   "cell_type": "code",
   "execution_count": null,
   "metadata": {
    "id": "65hMKAEZcwMw"
   },
   "outputs": [],
   "source": [
    "pd.merge(df1,df3, how='left', on=['COD_SEGMENTO','COD_COMUNA'])"
   ]
  },
  {
   "cell_type": "code",
   "execution_count": null,
   "metadata": {
    "id": "NCR-xd_acwMw"
   },
   "outputs": [],
   "source": []
  }
 ],
 "metadata": {
  "colab": {
   "provenance": []
  },
  "kernelspec": {
   "display_name": "Python 3 (ipykernel)",
   "language": "python",
   "name": "python3"
  },
  "language_info": {
   "codemirror_mode": {
    "name": "ipython",
    "version": 3
   },
   "file_extension": ".py",
   "mimetype": "text/x-python",
   "name": "python",
   "nbconvert_exporter": "python",
   "pygments_lexer": "ipython3",
   "version": "3.11.7"
  }
 },
 "nbformat": 4,
 "nbformat_minor": 4
}
